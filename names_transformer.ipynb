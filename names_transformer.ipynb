{
  "nbformat": 4,
  "nbformat_minor": 0,
  "metadata": {
    "colab": {
      "provenance": [],
      "collapsed_sections": [
        "SKJUiUnFf6nU",
        "TEK1kXT8IODY",
        "WIoql3bRqGGV",
        "2Wl9sOdUeqLw",
        "k8JxjRG8qITd"
      ],
      "authorship_tag": "ABX9TyNNaJDDhb+71Q9B2ycv/+DX",
      "include_colab_link": true
    },
    "kernelspec": {
      "name": "python3",
      "display_name": "Python 3"
    },
    "language_info": {
      "name": "python"
    },
    "gpuClass": "standard",
    "accelerator": "GPU"
  },
  "cells": [
    {
      "cell_type": "markdown",
      "metadata": {
        "id": "view-in-github",
        "colab_type": "text"
      },
      "source": [
        "<a href=\"https://colab.research.google.com/github/Klingefjord/notebooks/blob/main/names_transformer.ipynb\" target=\"_parent\"><img src=\"https://colab.research.google.com/assets/colab-badge.svg\" alt=\"Open In Colab\"/></a>"
      ]
    },
    {
      "cell_type": "markdown",
      "source": [
        "### A names transformer\n",
        "\n",
        "A decoder-only transformer (actually built up of TransformerEncoder blocks in PyTorch, since the PyTorch TransformerDecoder blocks contain encoder-decoder attention layers. Otherwise similar to GPT), trained on character-level name generation. The model is fed thousands of names masked triangularily, and tries to predict the next character in the name."
      ],
      "metadata": {
        "id": "I1qdjl3EgFI6"
      }
    },
    {
      "cell_type": "markdown",
      "source": [
        "# Setup"
      ],
      "metadata": {
        "id": "SKJUiUnFf6nU"
      }
    },
    {
      "cell_type": "code",
      "execution_count": 3,
      "metadata": {
        "colab": {
          "base_uri": "https://localhost:8080/"
        },
        "id": "lUNLpPPwCu15",
        "outputId": "c1a9c0a0-ec35-4b6a-bdfb-6878005bec33"
      },
      "outputs": [
        {
          "output_type": "stream",
          "name": "stdout",
          "text": [
            "--2022-10-20 11:57:11--  https://raw.githubusercontent.com/karpathy/makemore/master/names.txt\n",
            "Resolving raw.githubusercontent.com (raw.githubusercontent.com)... 185.199.108.133, 185.199.109.133, 185.199.110.133, ...\n",
            "Connecting to raw.githubusercontent.com (raw.githubusercontent.com)|185.199.108.133|:443... connected.\n",
            "HTTP request sent, awaiting response... 200 OK\n",
            "Length: 228145 (223K) [text/plain]\n",
            "Saving to: ‘names.txt’\n",
            "\n",
            "\rnames.txt             0%[                    ]       0  --.-KB/s               \rnames.txt           100%[===================>] 222.80K  --.-KB/s    in 0.02s   \n",
            "\n",
            "2022-10-20 11:57:11 (10.8 MB/s) - ‘names.txt’ saved [228145/228145]\n",
            "\n"
          ]
        }
      ],
      "source": [
        "!wget https://raw.githubusercontent.com/karpathy/makemore/master/names.txt"
      ]
    },
    {
      "cell_type": "code",
      "source": [
        "import os\n",
        "import math\n",
        "import torch\n",
        "import random\n",
        "import numpy as np\n",
        "from torch import Tensor\n",
        "import torch.nn as nn\n",
        "import torch.nn.functional as F\n",
        "import torch.nn.init as init\n",
        "import matplotlib.pyplot as plt\n",
        "from torch.utils.data import Dataset, DataLoader\n",
        "%matplotlib inline"
      ],
      "metadata": {
        "id": "a-Tcwi80CwIf"
      },
      "execution_count": 73,
      "outputs": []
    },
    {
      "cell_type": "code",
      "source": [
        "def seed_torch(seed=1029):\n",
        "  random.seed(seed)\n",
        "  os.environ['PYTHONHASHSEED'] = str(seed)\n",
        "  np.random.seed(seed)\n",
        "  torch.manual_seed(seed)\n",
        "  torch.cuda.manual_seed(seed)\n",
        "  torch.cuda.manual_seed_all(seed) # if you are using multi-GPU.\n",
        "  torch.backends.cudnn.benchmark = False\n",
        "  torch.backends.cudnn.deterministic = True\n",
        "\n",
        "seed_torch()"
      ],
      "metadata": {
        "id": "H57Ag35XS5Gq"
      },
      "execution_count": 74,
      "outputs": []
    },
    {
      "cell_type": "markdown",
      "source": [
        "# Model"
      ],
      "metadata": {
        "id": "6H4V7JqGqOQu"
      }
    },
    {
      "cell_type": "code",
      "source": [
        "class PositionalEncoding(nn.Module):\n",
        "    def __init__(self, d_model: int, dropout: float = 0.1, max_len: int = 5000):\n",
        "        super().__init__()\n",
        "        self.dropout = nn.Dropout(p=dropout)\n",
        "\n",
        "        position = torch.arange(max_len).unsqueeze(1)\n",
        "        div_term = torch.exp(torch.arange(0, d_model, 2) * (-math.log(10000.0) / d_model))\n",
        "        pe = torch.zeros(max_len, 1, d_model)\n",
        "        pe[:, 0, 0::2] = torch.sin(position * div_term)\n",
        "        pe[:, 0, 1::2] = torch.cos(position * div_term)\n",
        "        self.register_buffer('pe', pe)\n",
        "\n",
        "    def forward(self, x: Tensor) -> Tensor:\n",
        "        torch.Size([128, 9, 29])\n",
        "        torch.Size([5000, 1, 512])\n",
        "        x = x + self.pe[:x.size(0)]\n",
        "        return self.dropout(x)\n",
        "\n",
        "class TransformerEncoder(nn.Module):\n",
        "  def __init__(self, n_layers: int, d_model: int, n_heads: int, vocab_size: int):\n",
        "    super(TransformerEncoder, self).__init__()\n",
        "    self.d_model = d_model\n",
        "    self.src_embedding = nn.Embedding(vocab_size, d_model)\n",
        "    self.pos_encodings = PositionalEncoding(d_model, dropout=0.1)\n",
        "    encoder_layer = nn.TransformerEncoderLayer(d_model=d_model, nhead=n_heads, batch_first=True, dropout=0.1)\n",
        "    self.encoder = nn.TransformerEncoder(encoder_layer, num_layers=n_layers)\n",
        "    self.generator = nn.Linear(d_model, vocab_size)\n",
        "    self.init_weights()\n",
        "\n",
        "  def init_weights(self) -> None:\n",
        "    initrange = 0.1\n",
        "    self.src_embedding.weight.data.uniform_(-initrange, initrange)\n",
        "    self.generator.bias.data.zero_()\n",
        "    self.generator.weight.data.uniform_(-initrange, initrange)\n",
        "\n",
        "  def forward(self, x: Tensor, src_mask: Tensor, padding_mask: Tensor) -> Tensor:\n",
        "    x = self.src_embedding(x) * math.sqrt(self.d_model)\n",
        "    x = self.pos_encodings(x)\n",
        "    x = self.encoder(x, src_mask, padding_mask)\n",
        "    x = self.generator(x)\n",
        "    return x"
      ],
      "metadata": {
        "id": "mFAFZ4D1CzQp"
      },
      "execution_count": 20,
      "outputs": []
    },
    {
      "cell_type": "markdown",
      "source": [
        "# Data"
      ],
      "metadata": {
        "id": "TEK1kXT8IODY"
      }
    },
    {
      "cell_type": "code",
      "source": [
        "words = open('names.txt', 'r').read().splitlines()\n",
        "words = sorted(words, key=len)\n",
        "\n",
        "vocab = [':',';','_','a','b','c','d','e','f','g','h','i','j','k','l','m','n','o','p','q','r','s','t','u','v','w','x','y','z']\n",
        "stoi = {key:i for i, key in enumerate(vocab)}\n",
        "itos = {i:key for i, key in enumerate(vocab)}\n",
        "\n",
        "# configure the vocabulary\n",
        "# : = start\n",
        "# ; = end\n",
        "# _ = pad\n",
        "vocab = [':',';','_','a','b','c','d','e','f','g','h','i','j','k','l','m','n','o','p','q','r','s','t','u','v','w','x','y','z']\n",
        "stoi = {key:i for i, key in enumerate(vocab)}\n",
        "itos = {i:key for i, key in enumerate(vocab)}"
      ],
      "metadata": {
        "id": "DkDGjMPRDfXJ"
      },
      "execution_count": 21,
      "outputs": []
    },
    {
      "cell_type": "code",
      "source": [
        "class NamesDataset(Dataset):\n",
        "    def __init__(self, names):\n",
        "        self.names = names\n",
        "        self.max_len = len(names[-1]) + 2\n",
        "\n",
        "    def __len__(self):\n",
        "        return len(self.names)\n",
        "        \n",
        "    def __getitem__(self, idx):\n",
        "        name = itos[0] + self.names[idx] + itos[1]\n",
        "        word = torch.tensor([stoi[n] for n in name])\n",
        "        pad  = torch.tensor([2 for _ in range(self.max_len - len(name))])\n",
        "        return torch.cat((word, pad)).long()"
      ],
      "metadata": {
        "id": "wtc2q46HI_XX"
      },
      "execution_count": 22,
      "outputs": []
    },
    {
      "cell_type": "code",
      "source": [
        "split = int(len(words) * 0.8)\n",
        "\n",
        "train_data = NamesDataset(words[:split])\n",
        "test_data = NamesDataset(words[split:])"
      ],
      "metadata": {
        "id": "ip0BP-1881uU"
      },
      "execution_count": 23,
      "outputs": []
    },
    {
      "cell_type": "markdown",
      "source": [
        "# Training Setup"
      ],
      "metadata": {
        "id": "WIoql3bRqGGV"
      }
    },
    {
      "cell_type": "code",
      "source": [
        "@torch.no_grad()\n",
        "def greedy_decode(model, max_tokens, device):\n",
        "  idx = torch.tensor([[0]]).long().to(device)\n",
        "\n",
        "  model.eval()\n",
        "\n",
        "  for _ in range(max_tokens):\n",
        "    src_mask = torch.triu(torch.ones(idx.shape[-1], idx.shape[-1]) * float('-inf'), diagonal=1).to(device)\n",
        "    logits = model(idx, src_mask, None) # no padding token in inference mode.\n",
        "    next_token_logits = logits[:, -1, :]\n",
        "    probs = F.softmax(next_token_logits, dim=-1)\n",
        "    next_tokens = torch.multinomial(probs, num_samples=1)\n",
        "    idx = torch.cat((idx, next_tokens), dim=1)\n",
        "\n",
        "    if idx.squeeze()[-1] == 1 or idx.squeeze()[-1] == 2:\n",
        "      break\n",
        "  \n",
        "  if (idx.squeeze().numel() < 1):\n",
        "    return\n",
        "\n",
        "  idx = idx.squeeze()[1:] # trim away the <bos> token.\n",
        "  idx = idx.squeeze()[:-1] # trim away the <eos> token.\n",
        "  \n",
        "  print(''.join([itos[i] for i in idx.tolist()]))\n",
        "\n",
        "\n",
        "def collate_fn(x, n_tokens_input=3, pad=2):\n",
        "  x = torch.stack(x)\n",
        "  src = x[:, :-1]\n",
        "  tgt = x[:, 1:]\n",
        "\n",
        "  src_mask = torch.triu(torch.ones(src.shape[-1], src.shape[-1]) * float('-inf'), diagonal=1)\n",
        "  padding_mask = (src == pad)\n",
        "\n",
        "  return (src.to(device), tgt.to(device), src_mask.to(device), padding_mask.to(device))"
      ],
      "metadata": {
        "id": "TeYynYYLptrs"
      },
      "execution_count": 129,
      "outputs": []
    },
    {
      "cell_type": "code",
      "source": [
        "def plot_losses(train_losses, valid_losses):\n",
        "  \"\"\"Plot the training and validation losses against the epoch\"\"\"\n",
        "  plt.plot(train_losses)\n",
        "  plt.plot(valid_losses)\n",
        "  plt.title('model loss')\n",
        "  plt.ylabel('loss')\n",
        "  plt.xlabel('epoch')\n",
        "  plt.legend(['train', 'val'], loc='upper left')\n",
        "  plt.show()\n",
        "\n",
        "def train_epoch(model, optimizer, dataloader):\n",
        "  losses = []\n",
        "\n",
        "  model.train()\n",
        "\n",
        "  i = 0\n",
        "\n",
        "  for src, tgt, src_mask, padding_mask in dataloader:\n",
        "\n",
        "    out = model(src, src_mask, padding_mask)\n",
        "    loss = criterion(out.permute(0, 2, 1), tgt)\n",
        "\n",
        "    # visualize in, out and tgt.\n",
        "    #\n",
        "    #print(\"out shape\", out.shape)\n",
        "    #print(\"tgt shape\", tgt.shape)\n",
        "    #if i % 10 == 0:\n",
        "    #  print(\"in\", \"\".join([itos[a] for a in src[0, :].squeeze().tolist()]))\n",
        "    #  print(\"target\", \"\".join([itos[a] for a in tgt[0, :].squeeze().tolist()]))\n",
        "    #  print(\"out\", \"\".join([itos[a] for a in torch.argmax(out[0, :].squeeze(), dim=-1).tolist()]))\n",
        "    #i += 1\n",
        "\n",
        "    optimizer.zero_grad()\n",
        "    model.zero_grad()\n",
        "    loss.backward()\n",
        "    torch.nn.utils.clip_grad_norm_(model.parameters(), 0.5)\n",
        "    optimizer.step()\n",
        "\n",
        "    losses.append(loss)\n",
        "\n",
        "  return losses\n",
        "\n",
        "@torch.no_grad()\n",
        "def val_epoch(model, dataloader, device):\n",
        "  losses = []\n",
        "\n",
        "  model.eval()\n",
        "\n",
        "  for src, tgt, src_mask, padding_mask in dataloader:\n",
        "    out = model(src, src_mask, padding_mask)\n",
        "    loss = criterion(out.permute(0, 2, 1), tgt)\n",
        "    losses.append(loss)\n",
        "\n",
        "  return losses\n",
        "\n",
        "def train(model, epochs, optimizer, scheduler, train_loader, test_loader, device):\n",
        "  \"\"\"Train the model for {epochs} epochs\"\"\"\n",
        "  train_loss = []\n",
        "  val_loss   = []\n",
        "\n",
        "  for e in range(epochs):\n",
        "    train_loss += train_epoch(model, optimizer, train_loader)\n",
        "    val_loss += val_epoch(model, test_loader, device)\n",
        "\n",
        "    if scheduler is not None:\n",
        "      scheduler.step()\n",
        "\n",
        "    print(f\"Epoch {e}\\t Train Loss: {train_loss[-1]}\\t Val Los: {val_loss[-1]}\")\n",
        "\n",
        "  plot_losses([l.clone().detach().cpu() for l in train_loss], [l.clone().detach().cpu() for l in val_loss])"
      ],
      "metadata": {
        "id": "E-8uU1txOGzD"
      },
      "execution_count": 113,
      "outputs": []
    },
    {
      "cell_type": "markdown",
      "source": [
        "# Activations\n",
        "\n",
        "Verifying that the activations after a dry run of the model look fairly gaussian."
      ],
      "metadata": {
        "id": "2Wl9sOdUeqLw"
      }
    },
    {
      "cell_type": "code",
      "source": [
        "#\n",
        "# Verify that the activations in the model look decent (close to gaussian).\n",
        "#\n",
        "\n",
        "eval_model = TransformerEncoder(n_layers=2, d_model=200, n_heads=2, vocab_size=len(vocab))\n",
        "\n",
        "activations = {}\n",
        "\n",
        "def get_activation(name):\n",
        "    def hook(model, input, output):\n",
        "        activations[name] = output.detach()\n",
        "    return hook\n",
        "\n",
        "# add the hooks\n",
        "for m in eval_model.modules():\n",
        "  if isinstance(m, nn.Linear):\n",
        "    m.register_forward_hook(get_activation(m))\n",
        "\n",
        "# perform a forward pass\n",
        "eval_model.to(torch.device('cpu'))\n",
        "eval_model.eval()\n",
        "\n",
        "x = torch.tensor([stoi[s] for s in ':oliver']).unsqueeze(0)\n",
        "sz = x.shape[-1]\n",
        "m = torch.triu(torch.ones(sz, sz) * float('-inf'), diagonal=1)\n",
        "\n",
        "_ = eval_model(x, m, None)  \n",
        "\n",
        "# visualize the activations\n",
        "plt.figure(figsize=(20, 4))\n",
        "legends = []\n",
        "\n",
        "for i, key in enumerate(activations):\n",
        "  t = activations[key]\n",
        "  if isinstance(t, tuple):\n",
        "    break\n",
        "  print('layer %d (%10s): mean %+.2f, std %.2f, saturated: %.2f%%' % (i, key, t.mean(), t.std(), (t.abs() > 0.97).float().mean()*100))\n",
        "  hy, hx = torch.histogram(t, density=True)\n",
        "  plt.plot(hx[:-1].detach(), hy.detach())\n",
        "  legends.append(f'layer {i} ({key}')\n",
        "plt.legend(legends);\n",
        "plt.title('activation distribution')"
      ],
      "metadata": {
        "colab": {
          "base_uri": "https://localhost:8080/",
          "height": 385
        },
        "id": "smJ5MFRiYE0h",
        "outputId": "ff7ec355-b72e-4a1d-c573-faf49dd6f4f0"
      },
      "execution_count": 35,
      "outputs": [
        {
          "output_type": "stream",
          "name": "stdout",
          "text": [
            "layer 0 (Linear(in_features=200, out_features=2048, bias=True)): mean -0.00, std 0.58, saturated: 8.93%\n",
            "layer 1 (Linear(in_features=2048, out_features=200, bias=True)): mean -0.02, std 0.25, saturated: 0.00%\n",
            "layer 2 (Linear(in_features=200, out_features=2048, bias=True)): mean +0.00, std 0.58, saturated: 9.40%\n",
            "layer 3 (Linear(in_features=2048, out_features=200, bias=True)): mean -0.03, std 0.25, saturated: 0.00%\n",
            "layer 4 (Linear(in_features=200, out_features=29, bias=True)): mean -0.26, std 0.73, saturated: 19.21%\n"
          ]
        },
        {
          "output_type": "execute_result",
          "data": {
            "text/plain": [
              "Text(0.5, 1.0, 'activation distribution')"
            ]
          },
          "metadata": {},
          "execution_count": 35
        },
        {
          "output_type": "display_data",
          "data": {
            "text/plain": [
              "<Figure size 1440x288 with 1 Axes>"
            ],
            "image/png": "[encoded data removed]"
          },
          "metadata": {
            "needs_background": "light"
          }
        }
      ]
    },
    {
      "cell_type": "markdown",
      "source": [
        "Not perfect, but close enough given that the model has LayerNorm layers."
      ],
      "metadata": {
        "id": "W5JN1vKrfg7v"
      }
    },
    {
      "cell_type": "markdown",
      "source": [
        "# Training"
      ],
      "metadata": {
        "id": "k8JxjRG8qITd"
      }
    },
    {
      "cell_type": "code",
      "source": [
        "device = torch.device('cuda' if torch.cuda.is_available() else 'cpu')\n",
        "\n",
        "train_loader = DataLoader(train_data, batch_size=32, shuffle=True, drop_last=True, collate_fn=collate_fn)\n",
        "test_loader = DataLoader(test_data, batch_size=32, shuffle=True, drop_last=True, collate_fn=collate_fn)\n",
        "\n",
        "lr = 1e-3\n",
        "model = TransformerEncoder(n_layers=2, d_model=200, n_heads=2, vocab_size=len(vocab)).to(device)\n",
        "criterion = nn.CrossEntropyLoss()\n",
        "optimizer = torch.optim.Adam(model.parameters(), lr=lr)\n",
        "epochs = 100\n",
        "scheduler = torch.optim.lr_scheduler.CosineAnnealingLR(optimizer, epochs)\n",
        "\n",
        "train(\n",
        "    model, epochs=epochs, \n",
        "    optimizer=optimizer, \n",
        "    scheduler=scheduler, \n",
        "    train_loader=train_loader, \n",
        "    test_loader=test_loader,\n",
        "    device=device)"
      ],
      "metadata": {
        "colab": {
          "base_uri": "https://localhost:8080/",
          "height": 1000
        },
        "id": "4JjkEbjdzRtF",
        "outputId": "228a4b68-af39-4d25-8a6f-868dea510887"
      },
      "execution_count": 145,
      "outputs": [
        {
          "output_type": "stream",
          "name": "stdout",
          "text": [
            "Epoch 0\t Train Loss: 1.9155009984970093\t Val Los: 1.401049017906189\n",
            "Epoch 1\t Train Loss: 1.7460925579071045\t Val Los: 1.345306396484375\n",
            "Epoch 2\t Train Loss: 1.845577597618103\t Val Los: 1.4650746583938599\n",
            "Epoch 3\t Train Loss: 1.9261986017227173\t Val Los: 1.4231321811676025\n",
            "Epoch 4\t Train Loss: 1.8000415563583374\t Val Los: 1.4585118293762207\n",
            "Epoch 5\t Train Loss: 1.6985405683517456\t Val Los: 1.4223273992538452\n",
            "Epoch 6\t Train Loss: 1.8189648389816284\t Val Los: 1.3757801055908203\n",
            "Epoch 7\t Train Loss: 1.6562831401824951\t Val Los: 1.3567101955413818\n",
            "Epoch 8\t Train Loss: 1.7626031637191772\t Val Los: 1.2761435508728027\n",
            "Epoch 9\t Train Loss: 1.7388361692428589\t Val Los: 1.3576894998550415\n",
            "Epoch 10\t Train Loss: 1.7631278038024902\t Val Los: 1.3902767896652222\n",
            "Epoch 11\t Train Loss: 1.705020785331726\t Val Los: 1.3265857696533203\n",
            "Epoch 12\t Train Loss: 1.7156494855880737\t Val Los: 1.2686419486999512\n",
            "Epoch 13\t Train Loss: 1.6929904222488403\t Val Los: 1.4362232685089111\n",
            "Epoch 14\t Train Loss: 1.6425963640213013\t Val Los: 1.2886415719985962\n",
            "Epoch 15\t Train Loss: 1.7889877557754517\t Val Los: 1.489426612854004\n",
            "Epoch 16\t Train Loss: 1.7561763525009155\t Val Los: 1.1913858652114868\n",
            "Epoch 17\t Train Loss: 1.717806100845337\t Val Los: 1.2456539869308472\n",
            "Epoch 18\t Train Loss: 1.6698201894760132\t Val Los: 1.3909790515899658\n",
            "Epoch 19\t Train Loss: 1.7354464530944824\t Val Los: 1.2836334705352783\n",
            "Epoch 20\t Train Loss: 1.634028673171997\t Val Los: 1.2901904582977295\n",
            "Epoch 21\t Train Loss: 1.580593228340149\t Val Los: 1.353476881980896\n",
            "Epoch 22\t Train Loss: 1.6157642602920532\t Val Los: 1.479175090789795\n",
            "Epoch 23\t Train Loss: 1.6394665241241455\t Val Los: 1.363502860069275\n",
            "Epoch 24\t Train Loss: 1.6105542182922363\t Val Los: 1.2815388441085815\n",
            "Epoch 25\t Train Loss: 1.6989818811416626\t Val Los: 1.2224066257476807\n",
            "Epoch 26\t Train Loss: 1.6500245332717896\t Val Los: 1.194025993347168\n",
            "Epoch 27\t Train Loss: 1.729798436164856\t Val Los: 1.306046485900879\n",
            "Epoch 28\t Train Loss: 1.6785966157913208\t Val Los: 1.3551545143127441\n",
            "Epoch 29\t Train Loss: 1.7108677625656128\t Val Los: 1.3389333486557007\n",
            "Epoch 30\t Train Loss: 1.5670270919799805\t Val Los: 1.3902031183242798\n",
            "Epoch 31\t Train Loss: 1.7108285427093506\t Val Los: 1.2938425540924072\n",
            "Epoch 32\t Train Loss: 1.6828289031982422\t Val Los: 1.357230305671692\n",
            "Epoch 33\t Train Loss: 1.5721664428710938\t Val Los: 1.2738350629806519\n",
            "Epoch 34\t Train Loss: 1.5720365047454834\t Val Los: 1.312896966934204\n",
            "Epoch 35\t Train Loss: 1.6256113052368164\t Val Los: 1.3960024118423462\n",
            "Epoch 36\t Train Loss: 1.7225637435913086\t Val Los: 1.4728498458862305\n",
            "Epoch 37\t Train Loss: 1.4775912761688232\t Val Los: 1.2956098318099976\n",
            "Epoch 38\t Train Loss: 1.5731654167175293\t Val Los: 1.3414226770401\n",
            "Epoch 39\t Train Loss: 1.5258334875106812\t Val Los: 1.348713755607605\n",
            "Epoch 40\t Train Loss: 1.6130770444869995\t Val Los: 1.3147997856140137\n",
            "Epoch 41\t Train Loss: 1.5289297103881836\t Val Los: 1.3612205982208252\n",
            "Epoch 42\t Train Loss: 1.603636384010315\t Val Los: 1.402944564819336\n",
            "Epoch 43\t Train Loss: 1.5449440479278564\t Val Los: 1.3209162950515747\n",
            "Epoch 44\t Train Loss: 1.6076689958572388\t Val Los: 1.3006032705307007\n",
            "Epoch 45\t Train Loss: 1.612648844718933\t Val Los: 1.1655409336090088\n",
            "Epoch 46\t Train Loss: 1.5690557956695557\t Val Los: 1.1862984895706177\n",
            "Epoch 47\t Train Loss: 1.5264443159103394\t Val Los: 1.2737997770309448\n",
            "Epoch 48\t Train Loss: 1.590811848640442\t Val Los: 1.284322738647461\n",
            "Epoch 49\t Train Loss: 1.5451773405075073\t Val Los: 1.3786194324493408\n",
            "Epoch 50\t Train Loss: 1.556237816810608\t Val Los: 1.3474878072738647\n",
            "Epoch 51\t Train Loss: 1.5246334075927734\t Val Los: 1.377432107925415\n",
            "Epoch 52\t Train Loss: 1.5327789783477783\t Val Los: 1.292212963104248\n",
            "Epoch 53\t Train Loss: 1.47463858127594\t Val Los: 1.256713628768921\n",
            "Epoch 54\t Train Loss: 1.6027668714523315\t Val Los: 1.455931544303894\n",
            "Epoch 55\t Train Loss: 1.5431488752365112\t Val Los: 1.4369087219238281\n",
            "Epoch 56\t Train Loss: 1.5123316049575806\t Val Los: 1.294901728630066\n",
            "Epoch 57\t Train Loss: 1.5641064643859863\t Val Los: 1.4181352853775024\n",
            "Epoch 58\t Train Loss: 1.4569182395935059\t Val Los: 1.50833261013031\n",
            "Epoch 59\t Train Loss: 1.5275498628616333\t Val Los: 1.3868211507797241\n",
            "Epoch 60\t Train Loss: 1.5358859300613403\t Val Los: 1.3392771482467651\n",
            "Epoch 61\t Train Loss: 1.5605636835098267\t Val Los: 1.425723671913147\n",
            "Epoch 62\t Train Loss: 1.5139793157577515\t Val Los: 1.3549453020095825\n",
            "Epoch 63\t Train Loss: 1.515666127204895\t Val Los: 1.4360322952270508\n",
            "Epoch 64\t Train Loss: 1.4788460731506348\t Val Los: 1.360485553741455\n",
            "Epoch 65\t Train Loss: 1.4837884902954102\t Val Los: 1.4801958799362183\n",
            "Epoch 66\t Train Loss: 1.5280722379684448\t Val Los: 1.313452124595642\n",
            "Epoch 67\t Train Loss: 1.5567573308944702\t Val Los: 1.3423848152160645\n",
            "Epoch 68\t Train Loss: 1.6087028980255127\t Val Los: 1.2959462404251099\n",
            "Epoch 69\t Train Loss: 1.5028890371322632\t Val Los: 1.3328282833099365\n",
            "Epoch 70\t Train Loss: 1.523569107055664\t Val Los: 1.1657077074050903\n",
            "Epoch 71\t Train Loss: 1.5808942317962646\t Val Los: 1.481094479560852\n",
            "Epoch 72\t Train Loss: 1.5611101388931274\t Val Los: 1.3327982425689697\n",
            "Epoch 73\t Train Loss: 1.4967721700668335\t Val Los: 1.544191837310791\n",
            "Epoch 74\t Train Loss: 1.469538688659668\t Val Los: 1.4090690612792969\n",
            "Epoch 75\t Train Loss: 1.5283088684082031\t Val Los: 1.5088895559310913\n",
            "Epoch 76\t Train Loss: 1.4609521627426147\t Val Los: 1.3680893182754517\n",
            "Epoch 77\t Train Loss: 1.488203763961792\t Val Los: 1.4367039203643799\n",
            "Epoch 78\t Train Loss: 1.5205711126327515\t Val Los: 1.269403100013733\n",
            "Epoch 79\t Train Loss: 1.5676958560943604\t Val Los: 1.5339207649230957\n",
            "Epoch 80\t Train Loss: 1.4897862672805786\t Val Los: 1.2111150026321411\n",
            "Epoch 81\t Train Loss: 1.568272352218628\t Val Los: 1.429736614227295\n",
            "Epoch 82\t Train Loss: 1.4663598537445068\t Val Los: 1.250558853149414\n",
            "Epoch 83\t Train Loss: 1.4926091432571411\t Val Los: 1.4041295051574707\n",
            "Epoch 84\t Train Loss: 1.440163016319275\t Val Los: 1.3053414821624756\n",
            "Epoch 85\t Train Loss: 1.4752916097640991\t Val Los: 1.3898327350616455\n",
            "Epoch 86\t Train Loss: 1.537599802017212\t Val Los: 1.45546555519104\n",
            "Epoch 87\t Train Loss: 1.5293878316879272\t Val Los: 1.2533583641052246\n",
            "Epoch 88\t Train Loss: 1.4623979330062866\t Val Los: 1.3371649980545044\n",
            "Epoch 89\t Train Loss: 1.4688034057617188\t Val Los: 1.3955680131912231\n",
            "Epoch 90\t Train Loss: 1.4479938745498657\t Val Los: 1.4004215002059937\n",
            "Epoch 91\t Train Loss: 1.4254469871520996\t Val Los: 1.4675920009613037\n",
            "Epoch 92\t Train Loss: 1.47244131565094\t Val Los: 1.3555971384048462\n",
            "Epoch 93\t Train Loss: 1.5148165225982666\t Val Los: 1.3678414821624756\n",
            "Epoch 94\t Train Loss: 1.5284464359283447\t Val Los: 1.2688459157943726\n",
            "Epoch 95\t Train Loss: 1.497186303138733\t Val Los: 1.4884650707244873\n",
            "Epoch 96\t Train Loss: 1.495606780052185\t Val Los: 1.3688063621520996\n",
            "Epoch 97\t Train Loss: 1.501375436782837\t Val Los: 1.371063232421875\n",
            "Epoch 98\t Train Loss: 1.4920902252197266\t Val Los: 1.236049771308899\n",
            "Epoch 99\t Train Loss: 1.4466534852981567\t Val Los: 1.5963644981384277\n"
          ]
        },
        {
          "output_type": "display_data",
          "data": {
            "text/plain": [
              "<Figure size 432x288 with 1 Axes>"
            ],
            "image/png": "[encoded data removed]"
          },
          "metadata": {
            "needs_background": "light"
          }
        }
      ]
    },
    {
      "cell_type": "markdown",
      "source": [
        "# Evaluation"
      ],
      "metadata": {
        "id": "Fw-_t3ErsXio"
      }
    },
    {
      "cell_type": "code",
      "source": [
        "for _ in range(20):\n",
        "  greedy_decode(model, 10, device)"
      ],
      "metadata": {
        "id": "c49cL-qeUJ4G",
        "colab": {
          "base_uri": "https://localhost:8080/"
        },
        "outputId": "4467a113-66c8-4de8-c755-e88991296c4a"
      },
      "execution_count": 146,
      "outputs": [
        {
          "output_type": "stream",
          "name": "stdout",
          "text": [
            "sandy\n",
            "elyston\n",
            "sona\n",
            "alexz\n",
            "jayman\n",
            "joby\n",
            "amilia\n",
            "naiama\n",
            "keelin\n",
            "kim\n",
            "kiarah\n",
            "keng\n",
            "bohdi\n",
            "carital\n",
            "geano\n",
            "ellanie\n",
            "jatalynn\n",
            "suza\n",
            "arun\n",
            "aaloika\n"
          ]
        }
      ]
    },
    {
      "cell_type": "code",
      "source": [
        "gen_names = [\n",
        "\"sandy\",\n",
        "\"elyston\",\n",
        "\"sona\",\n",
        "\"alexz\",\n",
        "\"jayman\",\n",
        "\"joby\",\n",
        "\"amilia\",\n",
        "\"naiama\",\n",
        "\"keelin\",\n",
        "\"kim\",\n",
        "\"kiarah\",\n",
        "\"keng\",\n",
        "\"bohdi\",\n",
        "\"carital\",\n",
        "\"geano\",\n",
        "\"ellanie\",\n",
        "\"jatalynn\",\n",
        "\"suza\",\n",
        "\"arun\",\n",
        "\"aaloika\",\n",
        "]\n",
        "\n",
        "for n in gen_names:\n",
        "  print(f\"{n}\\t Exists in dataset: {n in words}\")"
      ],
      "metadata": {
        "colab": {
          "base_uri": "https://localhost:8080/"
        },
        "id": "2_W_nAYve3TD",
        "outputId": "d3ef4669-ef08-44e8-fb39-34488d74aef4"
      },
      "execution_count": 147,
      "outputs": [
        {
          "output_type": "stream",
          "name": "stdout",
          "text": [
            "sandy\t Exists in dataset: True\n",
            "elyston\t Exists in dataset: False\n",
            "sona\t Exists in dataset: True\n",
            "alexz\t Exists in dataset: False\n",
            "jayman\t Exists in dataset: False\n",
            "joby\t Exists in dataset: True\n",
            "amilia\t Exists in dataset: True\n",
            "naiama\t Exists in dataset: False\n",
            "keelin\t Exists in dataset: True\n",
            "kim\t Exists in dataset: True\n",
            "kiarah\t Exists in dataset: True\n",
            "keng\t Exists in dataset: True\n",
            "bohdi\t Exists in dataset: True\n",
            "carital\t Exists in dataset: False\n",
            "geano\t Exists in dataset: False\n",
            "ellanie\t Exists in dataset: True\n",
            "jatalynn\t Exists in dataset: False\n",
            "suza\t Exists in dataset: False\n",
            "arun\t Exists in dataset: True\n",
            "aaloika\t Exists in dataset: False\n"
          ]
        }
      ]
    }
  ]
}